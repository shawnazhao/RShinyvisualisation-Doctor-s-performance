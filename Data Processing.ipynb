{
 "cells": [
  {
   "cell_type": "markdown",
   "metadata": {},
   "source": [
    "# Basic Data Exploratory analysis for the PCOR file  \n",
    "\n",
    "Before starting building the graphs and presenting the findings, I would like to have a basic analysis of the given data file the purposes of this analyses are:    \n",
    "1. Having a better understanding of the general data structure. \n",
    "2. Looking at the null values in Stage and Margin Status to decide on the best way to handle missing values. \n",
    "3. Deciding the optimal time interval to present the percentage positive margin. \n",
    "\n"
   ]
  },
  {
   "cell_type": "code",
   "execution_count": 5,
   "metadata": {},
   "outputs": [],
   "source": [
    "#install the unavailable library and load the library\n",
    "packages = c(\"plyr\", \"ggplot2\",\n",
    "             \"scales\", \"stringr\",\"tidyverse\",\"readxl\",\"lubridate\",'DT','zoo','plotly')\n",
    "\n",
    "## Now load or install&load all\n",
    "package.check <- lapply(\n",
    "  packages,\n",
    "  FUN = function(x) {\n",
    "    if (!require(x, character.only = TRUE)) {\n",
    "      install.packages(x, dependencies = TRUE)\n",
    "      library(x, character.only = TRUE)\n",
    "    }\n",
    "  }\n",
    ")"
   ]
  },
  {
   "cell_type": "markdown",
   "metadata": {},
   "source": [
    "### 1. Analysing the basic data structure. "
   ]
  },
  {
   "cell_type": "code",
   "execution_count": 6,
   "metadata": {},
   "outputs": [
    {
     "data": {
      "text/html": [
       "<table class=\"dataframe\">\n",
       "<caption>A tibble: 6 × 4</caption>\n",
       "<thead>\n",
       "\t<tr><th scope=col>Surgeon</th><th scope=col>SurgeryDt</th><th scope=col>Stage</th><th scope=col>MarginStatus</th></tr>\n",
       "\t<tr><th scope=col>&lt;chr&gt;</th><th scope=col>&lt;dttm&gt;</th><th scope=col>&lt;chr&gt;</th><th scope=col>&lt;dbl&gt;</th></tr>\n",
       "</thead>\n",
       "<tbody>\n",
       "\t<tr><td>Al</td><td>2020-06-19</td><td>T2</td><td>0</td></tr>\n",
       "\t<tr><td>Al</td><td>2018-11-08</td><td>T2</td><td>0</td></tr>\n",
       "\t<tr><td>Al</td><td>2019-03-17</td><td>T2</td><td>0</td></tr>\n",
       "\t<tr><td>Al</td><td>2018-03-01</td><td>T2</td><td>0</td></tr>\n",
       "\t<tr><td>Al</td><td>2020-03-23</td><td>T2</td><td>0</td></tr>\n",
       "\t<tr><td>Al</td><td>2018-03-21</td><td>T2</td><td>0</td></tr>\n",
       "</tbody>\n",
       "</table>\n"
      ],
      "text/latex": [
       "A tibble: 6 × 4\n",
       "\\begin{tabular}{llll}\n",
       " Surgeon & SurgeryDt & Stage & MarginStatus\\\\\n",
       " <chr> & <dttm> & <chr> & <dbl>\\\\\n",
       "\\hline\n",
       "\t Al & 2020-06-19 & T2 & 0\\\\\n",
       "\t Al & 2018-11-08 & T2 & 0\\\\\n",
       "\t Al & 2019-03-17 & T2 & 0\\\\\n",
       "\t Al & 2018-03-01 & T2 & 0\\\\\n",
       "\t Al & 2020-03-23 & T2 & 0\\\\\n",
       "\t Al & 2018-03-21 & T2 & 0\\\\\n",
       "\\end{tabular}\n"
      ],
      "text/markdown": [
       "\n",
       "A tibble: 6 × 4\n",
       "\n",
       "| Surgeon &lt;chr&gt; | SurgeryDt &lt;dttm&gt; | Stage &lt;chr&gt; | MarginStatus &lt;dbl&gt; |\n",
       "|---|---|---|---|\n",
       "| Al | 2020-06-19 | T2 | 0 |\n",
       "| Al | 2018-11-08 | T2 | 0 |\n",
       "| Al | 2019-03-17 | T2 | 0 |\n",
       "| Al | 2018-03-01 | T2 | 0 |\n",
       "| Al | 2020-03-23 | T2 | 0 |\n",
       "| Al | 2018-03-21 | T2 | 0 |\n",
       "\n"
      ],
      "text/plain": [
       "  Surgeon SurgeryDt  Stage MarginStatus\n",
       "1 Al      2020-06-19 T2    0           \n",
       "2 Al      2018-11-08 T2    0           \n",
       "3 Al      2019-03-17 T2    0           \n",
       "4 Al      2018-03-01 T2    0           \n",
       "5 Al      2020-03-23 T2    0           \n",
       "6 Al      2018-03-21 T2    0           "
      ]
     },
     "metadata": {},
     "output_type": "display_data"
    }
   ],
   "source": [
    "#read the dataframe\n",
    "df<-read_excel('PCOR File.xlsx')\n",
    "head(df)"
   ]
  },
  {
   "cell_type": "code",
   "execution_count": 7,
   "metadata": {},
   "outputs": [
    {
     "data": {
      "text/html": [
       "<style>\n",
       ".list-inline {list-style: none; margin:0; padding: 0}\n",
       ".list-inline>li {display: inline-block}\n",
       ".list-inline>li:not(:last-child)::after {content: \"\\00b7\"; padding: 0 .5ex}\n",
       "</style>\n",
       "<ol class=list-inline><li>2087</li><li>4</li></ol>\n"
      ],
      "text/latex": [
       "\\begin{enumerate*}\n",
       "\\item 2087\n",
       "\\item 4\n",
       "\\end{enumerate*}\n"
      ],
      "text/markdown": [
       "1. 2087\n",
       "2. 4\n",
       "\n",
       "\n"
      ],
      "text/plain": [
       "[1] 2087    4"
      ]
     },
     "metadata": {},
     "output_type": "display_data"
    }
   ],
   "source": [
    "#check the dimension of the table\n",
    "dim(df)"
   ]
  },
  {
   "cell_type": "code",
   "execution_count": 8,
   "metadata": {},
   "outputs": [
    {
     "data": {
      "text/html": [
       "'2018-01-01'"
      ],
      "text/latex": [
       "'2018-01-01'"
      ],
      "text/markdown": [
       "'2018-01-01'"
      ],
      "text/plain": [
       "[1] \"2018-01-01\""
      ]
     },
     "metadata": {},
     "output_type": "display_data"
    },
    {
     "data": {
      "text/html": [
       "'2020-12-31'"
      ],
      "text/latex": [
       "'2020-12-31'"
      ],
      "text/markdown": [
       "'2020-12-31'"
      ],
      "text/plain": [
       "[1] \"2020-12-31\""
      ]
     },
     "metadata": {},
     "output_type": "display_data"
    }
   ],
   "source": [
    "#check the min and max of the surgery date\n",
    "df$SurgeryDt <- format(as.Date(df$SurgeryDt), \"%Y-%m-%d\")\n",
    "min(df$SurgeryDt)\n",
    "max(df$SurgeryDt)"
   ]
  },
  {
   "cell_type": "code",
   "execution_count": 9,
   "metadata": {},
   "outputs": [
    {
     "data": {
      "text/html": [
       "<style>\n",
       ".list-inline {list-style: none; margin:0; padding: 0}\n",
       ".list-inline>li {display: inline-block}\n",
       ".list-inline>li:not(:last-child)::after {content: \"\\00b7\"; padding: 0 .5ex}\n",
       "</style>\n",
       "<ol class=list-inline><li>'Al'</li><li>'Bo'</li><li>'Cy'</li><li>'Di'</li><li>'Ed'</li><li>'Mo'</li><li>'Oz'</li><li>'Ti'</li><li>'Vi'</li><li>'Zo'</li></ol>\n"
      ],
      "text/latex": [
       "\\begin{enumerate*}\n",
       "\\item 'Al'\n",
       "\\item 'Bo'\n",
       "\\item 'Cy'\n",
       "\\item 'Di'\n",
       "\\item 'Ed'\n",
       "\\item 'Mo'\n",
       "\\item 'Oz'\n",
       "\\item 'Ti'\n",
       "\\item 'Vi'\n",
       "\\item 'Zo'\n",
       "\\end{enumerate*}\n"
      ],
      "text/markdown": [
       "1. 'Al'\n",
       "2. 'Bo'\n",
       "3. 'Cy'\n",
       "4. 'Di'\n",
       "5. 'Ed'\n",
       "6. 'Mo'\n",
       "7. 'Oz'\n",
       "8. 'Ti'\n",
       "9. 'Vi'\n",
       "10. 'Zo'\n",
       "\n",
       "\n"
      ],
      "text/plain": [
       " [1] \"Al\" \"Bo\" \"Cy\" \"Di\" \"Ed\" \"Mo\" \"Oz\" \"Ti\" \"Vi\" \"Zo\""
      ]
     },
     "metadata": {},
     "output_type": "display_data"
    }
   ],
   "source": [
    "#check the surgeon names\n",
    "unique(df$Surgeon)"
   ]
  },
  {
   "cell_type": "code",
   "execution_count": 10,
   "metadata": {},
   "outputs": [
    {
     "data": {
      "text/html": [
       "<style>\n",
       ".list-inline {list-style: none; margin:0; padding: 0}\n",
       ".list-inline>li {display: inline-block}\n",
       ".list-inline>li:not(:last-child)::after {content: \"\\00b7\"; padding: 0 .5ex}\n",
       "</style>\n",
       "<ol class=list-inline><li>'T2'</li><li>'T3a'</li><li>'T3'</li><li>'T3b'</li><li>'T3A'</li><li>'T3B'</li><li>NA</li></ol>\n"
      ],
      "text/latex": [
       "\\begin{enumerate*}\n",
       "\\item 'T2'\n",
       "\\item 'T3a'\n",
       "\\item 'T3'\n",
       "\\item 'T3b'\n",
       "\\item 'T3A'\n",
       "\\item 'T3B'\n",
       "\\item NA\n",
       "\\end{enumerate*}\n"
      ],
      "text/markdown": [
       "1. 'T2'\n",
       "2. 'T3a'\n",
       "3. 'T3'\n",
       "4. 'T3b'\n",
       "5. 'T3A'\n",
       "6. 'T3B'\n",
       "7. NA\n",
       "\n",
       "\n"
      ],
      "text/plain": [
       "[1] \"T2\"  \"T3a\" \"T3\"  \"T3b\" \"T3A\" \"T3B\" NA   "
      ]
     },
     "metadata": {},
     "output_type": "display_data"
    }
   ],
   "source": [
    "#check the number of stages\n",
    "unique(df$Stage)"
   ]
  },
  {
   "cell_type": "markdown",
   "metadata": {},
   "source": [
    "#### Comments for the Stage data:     \n",
    "\n",
    "We can see that there are some issues with the data that needs to be fixed. \n",
    "\n",
    "1. In terms of the stage T3 data, we have `T3a`,`T3b`,`T3A`,`T3B`, `T3`. We need to figure out a way to standardise the categories of stages. Firstly, `T3a`and `T3A`,`T3b` and `T3B` should be combined to keep the case letter consistent. Secondly, we need to decide on whether to present the data in 3 groups(`T3`,`T3a`,`T3b`) or one group(`T3`). Based on the definition of the Prostate cancer stages, T3a and T3b are substages of T3. It would be inappropriate to present the data in three groups: `T3a`,`T3b`,`T3`, because some of the `T3` data could be `T3a` or `T3b`. In addition, for the purpose of simplicity it would be better to combine all the data to just as `T3`.\n",
    "\n",
    "2. There are null values for the Stage data. I will investigate the missing values further to make a suggestion on how to deal with the missing values. \n",
    "\n",
    "\n",
    "**Reference** (https://www.cancerresearchuk.org/about-cancer/prostate-cancer/stages/tnm-staging)"
   ]
  },
  {
   "cell_type": "code",
   "execution_count": 11,
   "metadata": {},
   "outputs": [
    {
     "data": {
      "text/html": [
       "<style>\n",
       ".list-inline {list-style: none; margin:0; padding: 0}\n",
       ".list-inline>li {display: inline-block}\n",
       ".list-inline>li:not(:last-child)::after {content: \"\\00b7\"; padding: 0 .5ex}\n",
       "</style>\n",
       "<ol class=list-inline><li>0</li><li>1</li><li>&lt;NA&gt;</li></ol>\n"
      ],
      "text/latex": [
       "\\begin{enumerate*}\n",
       "\\item 0\n",
       "\\item 1\n",
       "\\item <NA>\n",
       "\\end{enumerate*}\n"
      ],
      "text/markdown": [
       "1. 0\n",
       "2. 1\n",
       "3. &lt;NA&gt;\n",
       "\n",
       "\n"
      ],
      "text/plain": [
       "[1]  0  1 NA"
      ]
     },
     "metadata": {},
     "output_type": "display_data"
    }
   ],
   "source": [
    "#check the number of Margin Status\n",
    "unique(df$MarginStatus)"
   ]
  },
  {
   "cell_type": "markdown",
   "metadata": {},
   "source": [
    "#### Comments for the Margin Status data:     \n",
    "\n",
    "\n",
    "From the result above we can also see there are missing values for the margin status. I will investigate this matter further in the following section. \n",
    "\n",
    "\n",
    "\n",
    "### 2. Analysing the missing values.      \n",
    "\n",
    "\n",
    "In order to decide on the best strategy to handling missing values. I would like to first look at the total number of the missing values for Stage and Margin Status."
   ]
  },
  {
   "cell_type": "code",
   "execution_count": 12,
   "metadata": {},
   "outputs": [
    {
     "data": {
      "text/html": [
       "33"
      ],
      "text/latex": [
       "33"
      ],
      "text/markdown": [
       "33"
      ],
      "text/plain": [
       "[1] 33"
      ]
     },
     "metadata": {},
     "output_type": "display_data"
    },
    {
     "data": {
      "text/html": [
       "49"
      ],
      "text/latex": [
       "49"
      ],
      "text/markdown": [
       "49"
      ],
      "text/plain": [
       "[1] 49"
      ]
     },
     "metadata": {},
     "output_type": "display_data"
    },
    {
     "data": {
      "text/html": [
       "29"
      ],
      "text/latex": [
       "29"
      ],
      "text/markdown": [
       "29"
      ],
      "text/plain": [
       "[1] 29"
      ]
     },
     "metadata": {},
     "output_type": "display_data"
    }
   ],
   "source": [
    "#Check the number of missing stages\n",
    "length(df[is.na(df$Stage),]$Stage)\n",
    "\n",
    "#check the number of missing margin status\n",
    "length(df[is.na(df$MarginStatus),]$MarginStatus)\n",
    "\n",
    "# Check the number of rows with both status and margin status as nulls.\n",
    "\n",
    "length(df[is.na(df$MarginStatus)&is.na(df$Stage),]$MarginStatus)\n",
    "\n"
   ]
  },
  {
   "cell_type": "markdown",
   "metadata": {},
   "source": [
    "As there is only a small percentage of data (out of the 2087 records) are nulls, we are able to inspect the null values by eyes. "
   ]
  },
  {
   "cell_type": "code",
   "execution_count": 13,
   "metadata": {},
   "outputs": [
    {
     "data": {
      "text/html": [
       "<table class=\"dataframe\">\n",
       "<caption>A tibble: 33 × 4</caption>\n",
       "<thead>\n",
       "\t<tr><th scope=col>Surgeon</th><th scope=col>SurgeryDt</th><th scope=col>Stage</th><th scope=col>MarginStatus</th></tr>\n",
       "\t<tr><th scope=col>&lt;chr&gt;</th><th scope=col>&lt;chr&gt;</th><th scope=col>&lt;chr&gt;</th><th scope=col>&lt;dbl&gt;</th></tr>\n",
       "</thead>\n",
       "<tbody>\n",
       "\t<tr><td>Ed</td><td>2020-08-29</td><td>NA</td><td>NA</td></tr>\n",
       "\t<tr><td>Ed</td><td>2018-04-21</td><td>NA</td><td>NA</td></tr>\n",
       "\t<tr><td>Ed</td><td>2018-02-05</td><td>NA</td><td>NA</td></tr>\n",
       "\t<tr><td>Ed</td><td>2020-03-01</td><td>NA</td><td>NA</td></tr>\n",
       "\t<tr><td>Ed</td><td>2019-07-08</td><td>NA</td><td>NA</td></tr>\n",
       "\t<tr><td>Ed</td><td>2018-02-22</td><td>NA</td><td>NA</td></tr>\n",
       "\t<tr><td>Ed</td><td>2018-03-28</td><td>NA</td><td>NA</td></tr>\n",
       "\t<tr><td>Ed</td><td>2019-09-04</td><td>NA</td><td>NA</td></tr>\n",
       "\t<tr><td>Ed</td><td>2020-12-05</td><td>NA</td><td>NA</td></tr>\n",
       "\t<tr><td>Ed</td><td>2018-11-11</td><td>NA</td><td>NA</td></tr>\n",
       "\t<tr><td>Ed</td><td>2018-02-11</td><td>NA</td><td>NA</td></tr>\n",
       "\t<tr><td>Ed</td><td>2018-09-30</td><td>NA</td><td>NA</td></tr>\n",
       "\t<tr><td>Ed</td><td>2019-01-24</td><td>NA</td><td>NA</td></tr>\n",
       "\t<tr><td>Mo</td><td>2018-10-30</td><td>NA</td><td>NA</td></tr>\n",
       "\t<tr><td>Mo</td><td>2018-10-08</td><td>NA</td><td>NA</td></tr>\n",
       "\t<tr><td>Mo</td><td>2018-04-04</td><td>NA</td><td> 0</td></tr>\n",
       "\t<tr><td>Mo</td><td>2018-05-24</td><td>NA</td><td>NA</td></tr>\n",
       "\t<tr><td>Mo</td><td>2019-12-13</td><td>NA</td><td>NA</td></tr>\n",
       "\t<tr><td>Mo</td><td>2019-05-09</td><td>NA</td><td>NA</td></tr>\n",
       "\t<tr><td>Mo</td><td>2020-01-04</td><td>NA</td><td>NA</td></tr>\n",
       "\t<tr><td>Mo</td><td>2018-12-29</td><td>NA</td><td> 1</td></tr>\n",
       "\t<tr><td>Mo</td><td>2018-01-14</td><td>NA</td><td>NA</td></tr>\n",
       "\t<tr><td>Mo</td><td>2020-05-14</td><td>NA</td><td> 0</td></tr>\n",
       "\t<tr><td>Mo</td><td>2018-09-02</td><td>NA</td><td>NA</td></tr>\n",
       "\t<tr><td>Mo</td><td>2019-09-18</td><td>NA</td><td>NA</td></tr>\n",
       "\t<tr><td>Mo</td><td>2020-12-18</td><td>NA</td><td>NA</td></tr>\n",
       "\t<tr><td>Mo</td><td>2020-08-13</td><td>NA</td><td>NA</td></tr>\n",
       "\t<tr><td>Mo</td><td>2018-06-30</td><td>NA</td><td>NA</td></tr>\n",
       "\t<tr><td>Mo</td><td>2019-02-03</td><td>NA</td><td>NA</td></tr>\n",
       "\t<tr><td>Mo</td><td>2018-03-19</td><td>NA</td><td>NA</td></tr>\n",
       "\t<tr><td>Zo</td><td>2020-09-20</td><td>NA</td><td>NA</td></tr>\n",
       "\t<tr><td>Zo</td><td>2020-01-20</td><td>NA</td><td> 0</td></tr>\n",
       "\t<tr><td>Zo</td><td>2020-03-20</td><td>NA</td><td>NA</td></tr>\n",
       "</tbody>\n",
       "</table>\n"
      ],
      "text/latex": [
       "A tibble: 33 × 4\n",
       "\\begin{tabular}{llll}\n",
       " Surgeon & SurgeryDt & Stage & MarginStatus\\\\\n",
       " <chr> & <chr> & <chr> & <dbl>\\\\\n",
       "\\hline\n",
       "\t Ed & 2020-08-29 & NA & NA\\\\\n",
       "\t Ed & 2018-04-21 & NA & NA\\\\\n",
       "\t Ed & 2018-02-05 & NA & NA\\\\\n",
       "\t Ed & 2020-03-01 & NA & NA\\\\\n",
       "\t Ed & 2019-07-08 & NA & NA\\\\\n",
       "\t Ed & 2018-02-22 & NA & NA\\\\\n",
       "\t Ed & 2018-03-28 & NA & NA\\\\\n",
       "\t Ed & 2019-09-04 & NA & NA\\\\\n",
       "\t Ed & 2020-12-05 & NA & NA\\\\\n",
       "\t Ed & 2018-11-11 & NA & NA\\\\\n",
       "\t Ed & 2018-02-11 & NA & NA\\\\\n",
       "\t Ed & 2018-09-30 & NA & NA\\\\\n",
       "\t Ed & 2019-01-24 & NA & NA\\\\\n",
       "\t Mo & 2018-10-30 & NA & NA\\\\\n",
       "\t Mo & 2018-10-08 & NA & NA\\\\\n",
       "\t Mo & 2018-04-04 & NA &  0\\\\\n",
       "\t Mo & 2018-05-24 & NA & NA\\\\\n",
       "\t Mo & 2019-12-13 & NA & NA\\\\\n",
       "\t Mo & 2019-05-09 & NA & NA\\\\\n",
       "\t Mo & 2020-01-04 & NA & NA\\\\\n",
       "\t Mo & 2018-12-29 & NA &  1\\\\\n",
       "\t Mo & 2018-01-14 & NA & NA\\\\\n",
       "\t Mo & 2020-05-14 & NA &  0\\\\\n",
       "\t Mo & 2018-09-02 & NA & NA\\\\\n",
       "\t Mo & 2019-09-18 & NA & NA\\\\\n",
       "\t Mo & 2020-12-18 & NA & NA\\\\\n",
       "\t Mo & 2020-08-13 & NA & NA\\\\\n",
       "\t Mo & 2018-06-30 & NA & NA\\\\\n",
       "\t Mo & 2019-02-03 & NA & NA\\\\\n",
       "\t Mo & 2018-03-19 & NA & NA\\\\\n",
       "\t Zo & 2020-09-20 & NA & NA\\\\\n",
       "\t Zo & 2020-01-20 & NA &  0\\\\\n",
       "\t Zo & 2020-03-20 & NA & NA\\\\\n",
       "\\end{tabular}\n"
      ],
      "text/markdown": [
       "\n",
       "A tibble: 33 × 4\n",
       "\n",
       "| Surgeon &lt;chr&gt; | SurgeryDt &lt;chr&gt; | Stage &lt;chr&gt; | MarginStatus &lt;dbl&gt; |\n",
       "|---|---|---|---|\n",
       "| Ed | 2020-08-29 | NA | NA |\n",
       "| Ed | 2018-04-21 | NA | NA |\n",
       "| Ed | 2018-02-05 | NA | NA |\n",
       "| Ed | 2020-03-01 | NA | NA |\n",
       "| Ed | 2019-07-08 | NA | NA |\n",
       "| Ed | 2018-02-22 | NA | NA |\n",
       "| Ed | 2018-03-28 | NA | NA |\n",
       "| Ed | 2019-09-04 | NA | NA |\n",
       "| Ed | 2020-12-05 | NA | NA |\n",
       "| Ed | 2018-11-11 | NA | NA |\n",
       "| Ed | 2018-02-11 | NA | NA |\n",
       "| Ed | 2018-09-30 | NA | NA |\n",
       "| Ed | 2019-01-24 | NA | NA |\n",
       "| Mo | 2018-10-30 | NA | NA |\n",
       "| Mo | 2018-10-08 | NA | NA |\n",
       "| Mo | 2018-04-04 | NA |  0 |\n",
       "| Mo | 2018-05-24 | NA | NA |\n",
       "| Mo | 2019-12-13 | NA | NA |\n",
       "| Mo | 2019-05-09 | NA | NA |\n",
       "| Mo | 2020-01-04 | NA | NA |\n",
       "| Mo | 2018-12-29 | NA |  1 |\n",
       "| Mo | 2018-01-14 | NA | NA |\n",
       "| Mo | 2020-05-14 | NA |  0 |\n",
       "| Mo | 2018-09-02 | NA | NA |\n",
       "| Mo | 2019-09-18 | NA | NA |\n",
       "| Mo | 2020-12-18 | NA | NA |\n",
       "| Mo | 2020-08-13 | NA | NA |\n",
       "| Mo | 2018-06-30 | NA | NA |\n",
       "| Mo | 2019-02-03 | NA | NA |\n",
       "| Mo | 2018-03-19 | NA | NA |\n",
       "| Zo | 2020-09-20 | NA | NA |\n",
       "| Zo | 2020-01-20 | NA |  0 |\n",
       "| Zo | 2020-03-20 | NA | NA |\n",
       "\n"
      ],
      "text/plain": [
       "   Surgeon SurgeryDt  Stage MarginStatus\n",
       "1  Ed      2020-08-29 NA    NA          \n",
       "2  Ed      2018-04-21 NA    NA          \n",
       "3  Ed      2018-02-05 NA    NA          \n",
       "4  Ed      2020-03-01 NA    NA          \n",
       "5  Ed      2019-07-08 NA    NA          \n",
       "6  Ed      2018-02-22 NA    NA          \n",
       "7  Ed      2018-03-28 NA    NA          \n",
       "8  Ed      2019-09-04 NA    NA          \n",
       "9  Ed      2020-12-05 NA    NA          \n",
       "10 Ed      2018-11-11 NA    NA          \n",
       "11 Ed      2018-02-11 NA    NA          \n",
       "12 Ed      2018-09-30 NA    NA          \n",
       "13 Ed      2019-01-24 NA    NA          \n",
       "14 Mo      2018-10-30 NA    NA          \n",
       "15 Mo      2018-10-08 NA    NA          \n",
       "16 Mo      2018-04-04 NA     0          \n",
       "17 Mo      2018-05-24 NA    NA          \n",
       "18 Mo      2019-12-13 NA    NA          \n",
       "19 Mo      2019-05-09 NA    NA          \n",
       "20 Mo      2020-01-04 NA    NA          \n",
       "21 Mo      2018-12-29 NA     1          \n",
       "22 Mo      2018-01-14 NA    NA          \n",
       "23 Mo      2020-05-14 NA     0          \n",
       "24 Mo      2018-09-02 NA    NA          \n",
       "25 Mo      2019-09-18 NA    NA          \n",
       "26 Mo      2020-12-18 NA    NA          \n",
       "27 Mo      2020-08-13 NA    NA          \n",
       "28 Mo      2018-06-30 NA    NA          \n",
       "29 Mo      2019-02-03 NA    NA          \n",
       "30 Mo      2018-03-19 NA    NA          \n",
       "31 Zo      2020-09-20 NA    NA          \n",
       "32 Zo      2020-01-20 NA     0          \n",
       "33 Zo      2020-03-20 NA    NA          "
      ]
     },
     "metadata": {},
     "output_type": "display_data"
    }
   ],
   "source": [
    "#Check the null values for the Stage.\n",
    "df[is.na(df$Stage),]"
   ]
  },
  {
   "cell_type": "code",
   "execution_count": 14,
   "metadata": {},
   "outputs": [
    {
     "data": {
      "text/html": [
       "<table class=\"dataframe\">\n",
       "<caption>A tibble: 49 × 4</caption>\n",
       "<thead>\n",
       "\t<tr><th scope=col>Surgeon</th><th scope=col>SurgeryDt</th><th scope=col>Stage</th><th scope=col>MarginStatus</th></tr>\n",
       "\t<tr><th scope=col>&lt;chr&gt;</th><th scope=col>&lt;chr&gt;</th><th scope=col>&lt;chr&gt;</th><th scope=col>&lt;dbl&gt;</th></tr>\n",
       "</thead>\n",
       "<tbody>\n",
       "\t<tr><td>Cy</td><td>2020-03-20</td><td>T3a</td><td>NA</td></tr>\n",
       "\t<tr><td>Cy</td><td>2019-01-05</td><td>T3a</td><td>NA</td></tr>\n",
       "\t<tr><td>Cy</td><td>2018-06-23</td><td>T3a</td><td>NA</td></tr>\n",
       "\t<tr><td>Di</td><td>2020-04-24</td><td>T2 </td><td>NA</td></tr>\n",
       "\t<tr><td>Di</td><td>2020-06-11</td><td>T2 </td><td>NA</td></tr>\n",
       "\t<tr><td>Di</td><td>2019-08-27</td><td>T2 </td><td>NA</td></tr>\n",
       "\t<tr><td>Di</td><td>2020-02-15</td><td>T2 </td><td>NA</td></tr>\n",
       "\t<tr><td>Di</td><td>2020-02-08</td><td>T2 </td><td>NA</td></tr>\n",
       "\t<tr><td>Di</td><td>2020-09-10</td><td>T2 </td><td>NA</td></tr>\n",
       "\t<tr><td>Di</td><td>2019-11-05</td><td>T2 </td><td>NA</td></tr>\n",
       "\t<tr><td>Di</td><td>2020-10-03</td><td>T2 </td><td>NA</td></tr>\n",
       "\t<tr><td>Di</td><td>2020-02-04</td><td>T2 </td><td>NA</td></tr>\n",
       "\t<tr><td>Di</td><td>2018-03-26</td><td>T2 </td><td>NA</td></tr>\n",
       "\t<tr><td>Ed</td><td>2020-08-29</td><td>NA </td><td>NA</td></tr>\n",
       "\t<tr><td>Ed</td><td>2018-04-21</td><td>NA </td><td>NA</td></tr>\n",
       "\t<tr><td>Ed</td><td>2018-02-05</td><td>NA </td><td>NA</td></tr>\n",
       "\t<tr><td>Ed</td><td>2020-03-01</td><td>NA </td><td>NA</td></tr>\n",
       "\t<tr><td>Ed</td><td>2019-07-08</td><td>NA </td><td>NA</td></tr>\n",
       "\t<tr><td>Ed</td><td>2018-02-22</td><td>NA </td><td>NA</td></tr>\n",
       "\t<tr><td>Ed</td><td>2018-03-28</td><td>NA </td><td>NA</td></tr>\n",
       "\t<tr><td>Ed</td><td>2019-09-04</td><td>NA </td><td>NA</td></tr>\n",
       "\t<tr><td>Ed</td><td>2020-12-05</td><td>NA </td><td>NA</td></tr>\n",
       "\t<tr><td>Ed</td><td>2018-11-11</td><td>NA </td><td>NA</td></tr>\n",
       "\t<tr><td>Ed</td><td>2018-02-11</td><td>NA </td><td>NA</td></tr>\n",
       "\t<tr><td>Ed</td><td>2018-09-30</td><td>NA </td><td>NA</td></tr>\n",
       "\t<tr><td>Ed</td><td>2019-01-24</td><td>NA </td><td>NA</td></tr>\n",
       "\t<tr><td>Mo</td><td>2018-10-30</td><td>NA </td><td>NA</td></tr>\n",
       "\t<tr><td>Mo</td><td>2018-10-08</td><td>NA </td><td>NA</td></tr>\n",
       "\t<tr><td>Mo</td><td>2019-02-19</td><td>T2 </td><td>NA</td></tr>\n",
       "\t<tr><td>Mo</td><td>2019-11-12</td><td>T2 </td><td>NA</td></tr>\n",
       "\t<tr><td>Mo</td><td>2018-05-24</td><td>NA </td><td>NA</td></tr>\n",
       "\t<tr><td>Mo</td><td>2019-12-13</td><td>NA </td><td>NA</td></tr>\n",
       "\t<tr><td>Mo</td><td>2019-05-09</td><td>NA </td><td>NA</td></tr>\n",
       "\t<tr><td>Mo</td><td>2020-01-04</td><td>NA </td><td>NA</td></tr>\n",
       "\t<tr><td>Mo</td><td>2018-01-14</td><td>NA </td><td>NA</td></tr>\n",
       "\t<tr><td>Mo</td><td>2018-09-02</td><td>NA </td><td>NA</td></tr>\n",
       "\t<tr><td>Mo</td><td>2019-09-18</td><td>NA </td><td>NA</td></tr>\n",
       "\t<tr><td>Mo</td><td>2020-12-18</td><td>NA </td><td>NA</td></tr>\n",
       "\t<tr><td>Mo</td><td>2020-08-13</td><td>NA </td><td>NA</td></tr>\n",
       "\t<tr><td>Mo</td><td>2018-06-30</td><td>NA </td><td>NA</td></tr>\n",
       "\t<tr><td>Mo</td><td>2019-02-03</td><td>NA </td><td>NA</td></tr>\n",
       "\t<tr><td>Mo</td><td>2018-03-19</td><td>NA </td><td>NA</td></tr>\n",
       "\t<tr><td>Oz</td><td>2018-09-12</td><td>T3B</td><td>NA</td></tr>\n",
       "\t<tr><td>Oz</td><td>2020-07-15</td><td>T3 </td><td>NA</td></tr>\n",
       "\t<tr><td>Ti</td><td>2018-07-14</td><td>T3 </td><td>NA</td></tr>\n",
       "\t<tr><td>Ti</td><td>2018-09-17</td><td>T3b</td><td>NA</td></tr>\n",
       "\t<tr><td>Ti</td><td>2018-09-12</td><td>T3a</td><td>NA</td></tr>\n",
       "\t<tr><td>Zo</td><td>2020-09-20</td><td>NA </td><td>NA</td></tr>\n",
       "\t<tr><td>Zo</td><td>2020-03-20</td><td>NA </td><td>NA</td></tr>\n",
       "</tbody>\n",
       "</table>\n"
      ],
      "text/latex": [
       "A tibble: 49 × 4\n",
       "\\begin{tabular}{llll}\n",
       " Surgeon & SurgeryDt & Stage & MarginStatus\\\\\n",
       " <chr> & <chr> & <chr> & <dbl>\\\\\n",
       "\\hline\n",
       "\t Cy & 2020-03-20 & T3a & NA\\\\\n",
       "\t Cy & 2019-01-05 & T3a & NA\\\\\n",
       "\t Cy & 2018-06-23 & T3a & NA\\\\\n",
       "\t Di & 2020-04-24 & T2  & NA\\\\\n",
       "\t Di & 2020-06-11 & T2  & NA\\\\\n",
       "\t Di & 2019-08-27 & T2  & NA\\\\\n",
       "\t Di & 2020-02-15 & T2  & NA\\\\\n",
       "\t Di & 2020-02-08 & T2  & NA\\\\\n",
       "\t Di & 2020-09-10 & T2  & NA\\\\\n",
       "\t Di & 2019-11-05 & T2  & NA\\\\\n",
       "\t Di & 2020-10-03 & T2  & NA\\\\\n",
       "\t Di & 2020-02-04 & T2  & NA\\\\\n",
       "\t Di & 2018-03-26 & T2  & NA\\\\\n",
       "\t Ed & 2020-08-29 & NA  & NA\\\\\n",
       "\t Ed & 2018-04-21 & NA  & NA\\\\\n",
       "\t Ed & 2018-02-05 & NA  & NA\\\\\n",
       "\t Ed & 2020-03-01 & NA  & NA\\\\\n",
       "\t Ed & 2019-07-08 & NA  & NA\\\\\n",
       "\t Ed & 2018-02-22 & NA  & NA\\\\\n",
       "\t Ed & 2018-03-28 & NA  & NA\\\\\n",
       "\t Ed & 2019-09-04 & NA  & NA\\\\\n",
       "\t Ed & 2020-12-05 & NA  & NA\\\\\n",
       "\t Ed & 2018-11-11 & NA  & NA\\\\\n",
       "\t Ed & 2018-02-11 & NA  & NA\\\\\n",
       "\t Ed & 2018-09-30 & NA  & NA\\\\\n",
       "\t Ed & 2019-01-24 & NA  & NA\\\\\n",
       "\t Mo & 2018-10-30 & NA  & NA\\\\\n",
       "\t Mo & 2018-10-08 & NA  & NA\\\\\n",
       "\t Mo & 2019-02-19 & T2  & NA\\\\\n",
       "\t Mo & 2019-11-12 & T2  & NA\\\\\n",
       "\t Mo & 2018-05-24 & NA  & NA\\\\\n",
       "\t Mo & 2019-12-13 & NA  & NA\\\\\n",
       "\t Mo & 2019-05-09 & NA  & NA\\\\\n",
       "\t Mo & 2020-01-04 & NA  & NA\\\\\n",
       "\t Mo & 2018-01-14 & NA  & NA\\\\\n",
       "\t Mo & 2018-09-02 & NA  & NA\\\\\n",
       "\t Mo & 2019-09-18 & NA  & NA\\\\\n",
       "\t Mo & 2020-12-18 & NA  & NA\\\\\n",
       "\t Mo & 2020-08-13 & NA  & NA\\\\\n",
       "\t Mo & 2018-06-30 & NA  & NA\\\\\n",
       "\t Mo & 2019-02-03 & NA  & NA\\\\\n",
       "\t Mo & 2018-03-19 & NA  & NA\\\\\n",
       "\t Oz & 2018-09-12 & T3B & NA\\\\\n",
       "\t Oz & 2020-07-15 & T3  & NA\\\\\n",
       "\t Ti & 2018-07-14 & T3  & NA\\\\\n",
       "\t Ti & 2018-09-17 & T3b & NA\\\\\n",
       "\t Ti & 2018-09-12 & T3a & NA\\\\\n",
       "\t Zo & 2020-09-20 & NA  & NA\\\\\n",
       "\t Zo & 2020-03-20 & NA  & NA\\\\\n",
       "\\end{tabular}\n"
      ],
      "text/markdown": [
       "\n",
       "A tibble: 49 × 4\n",
       "\n",
       "| Surgeon &lt;chr&gt; | SurgeryDt &lt;chr&gt; | Stage &lt;chr&gt; | MarginStatus &lt;dbl&gt; |\n",
       "|---|---|---|---|\n",
       "| Cy | 2020-03-20 | T3a | NA |\n",
       "| Cy | 2019-01-05 | T3a | NA |\n",
       "| Cy | 2018-06-23 | T3a | NA |\n",
       "| Di | 2020-04-24 | T2  | NA |\n",
       "| Di | 2020-06-11 | T2  | NA |\n",
       "| Di | 2019-08-27 | T2  | NA |\n",
       "| Di | 2020-02-15 | T2  | NA |\n",
       "| Di | 2020-02-08 | T2  | NA |\n",
       "| Di | 2020-09-10 | T2  | NA |\n",
       "| Di | 2019-11-05 | T2  | NA |\n",
       "| Di | 2020-10-03 | T2  | NA |\n",
       "| Di | 2020-02-04 | T2  | NA |\n",
       "| Di | 2018-03-26 | T2  | NA |\n",
       "| Ed | 2020-08-29 | NA  | NA |\n",
       "| Ed | 2018-04-21 | NA  | NA |\n",
       "| Ed | 2018-02-05 | NA  | NA |\n",
       "| Ed | 2020-03-01 | NA  | NA |\n",
       "| Ed | 2019-07-08 | NA  | NA |\n",
       "| Ed | 2018-02-22 | NA  | NA |\n",
       "| Ed | 2018-03-28 | NA  | NA |\n",
       "| Ed | 2019-09-04 | NA  | NA |\n",
       "| Ed | 2020-12-05 | NA  | NA |\n",
       "| Ed | 2018-11-11 | NA  | NA |\n",
       "| Ed | 2018-02-11 | NA  | NA |\n",
       "| Ed | 2018-09-30 | NA  | NA |\n",
       "| Ed | 2019-01-24 | NA  | NA |\n",
       "| Mo | 2018-10-30 | NA  | NA |\n",
       "| Mo | 2018-10-08 | NA  | NA |\n",
       "| Mo | 2019-02-19 | T2  | NA |\n",
       "| Mo | 2019-11-12 | T2  | NA |\n",
       "| Mo | 2018-05-24 | NA  | NA |\n",
       "| Mo | 2019-12-13 | NA  | NA |\n",
       "| Mo | 2019-05-09 | NA  | NA |\n",
       "| Mo | 2020-01-04 | NA  | NA |\n",
       "| Mo | 2018-01-14 | NA  | NA |\n",
       "| Mo | 2018-09-02 | NA  | NA |\n",
       "| Mo | 2019-09-18 | NA  | NA |\n",
       "| Mo | 2020-12-18 | NA  | NA |\n",
       "| Mo | 2020-08-13 | NA  | NA |\n",
       "| Mo | 2018-06-30 | NA  | NA |\n",
       "| Mo | 2019-02-03 | NA  | NA |\n",
       "| Mo | 2018-03-19 | NA  | NA |\n",
       "| Oz | 2018-09-12 | T3B | NA |\n",
       "| Oz | 2020-07-15 | T3  | NA |\n",
       "| Ti | 2018-07-14 | T3  | NA |\n",
       "| Ti | 2018-09-17 | T3b | NA |\n",
       "| Ti | 2018-09-12 | T3a | NA |\n",
       "| Zo | 2020-09-20 | NA  | NA |\n",
       "| Zo | 2020-03-20 | NA  | NA |\n",
       "\n"
      ],
      "text/plain": [
       "   Surgeon SurgeryDt  Stage MarginStatus\n",
       "1  Cy      2020-03-20 T3a   NA          \n",
       "2  Cy      2019-01-05 T3a   NA          \n",
       "3  Cy      2018-06-23 T3a   NA          \n",
       "4  Di      2020-04-24 T2    NA          \n",
       "5  Di      2020-06-11 T2    NA          \n",
       "6  Di      2019-08-27 T2    NA          \n",
       "7  Di      2020-02-15 T2    NA          \n",
       "8  Di      2020-02-08 T2    NA          \n",
       "9  Di      2020-09-10 T2    NA          \n",
       "10 Di      2019-11-05 T2    NA          \n",
       "11 Di      2020-10-03 T2    NA          \n",
       "12 Di      2020-02-04 T2    NA          \n",
       "13 Di      2018-03-26 T2    NA          \n",
       "14 Ed      2020-08-29 NA    NA          \n",
       "15 Ed      2018-04-21 NA    NA          \n",
       "16 Ed      2018-02-05 NA    NA          \n",
       "17 Ed      2020-03-01 NA    NA          \n",
       "18 Ed      2019-07-08 NA    NA          \n",
       "19 Ed      2018-02-22 NA    NA          \n",
       "20 Ed      2018-03-28 NA    NA          \n",
       "21 Ed      2019-09-04 NA    NA          \n",
       "22 Ed      2020-12-05 NA    NA          \n",
       "23 Ed      2018-11-11 NA    NA          \n",
       "24 Ed      2018-02-11 NA    NA          \n",
       "25 Ed      2018-09-30 NA    NA          \n",
       "26 Ed      2019-01-24 NA    NA          \n",
       "27 Mo      2018-10-30 NA    NA          \n",
       "28 Mo      2018-10-08 NA    NA          \n",
       "29 Mo      2019-02-19 T2    NA          \n",
       "30 Mo      2019-11-12 T2    NA          \n",
       "31 Mo      2018-05-24 NA    NA          \n",
       "32 Mo      2019-12-13 NA    NA          \n",
       "33 Mo      2019-05-09 NA    NA          \n",
       "34 Mo      2020-01-04 NA    NA          \n",
       "35 Mo      2018-01-14 NA    NA          \n",
       "36 Mo      2018-09-02 NA    NA          \n",
       "37 Mo      2019-09-18 NA    NA          \n",
       "38 Mo      2020-12-18 NA    NA          \n",
       "39 Mo      2020-08-13 NA    NA          \n",
       "40 Mo      2018-06-30 NA    NA          \n",
       "41 Mo      2019-02-03 NA    NA          \n",
       "42 Mo      2018-03-19 NA    NA          \n",
       "43 Oz      2018-09-12 T3B   NA          \n",
       "44 Oz      2020-07-15 T3    NA          \n",
       "45 Ti      2018-07-14 T3    NA          \n",
       "46 Ti      2018-09-17 T3b   NA          \n",
       "47 Ti      2018-09-12 T3a   NA          \n",
       "48 Zo      2020-09-20 NA    NA          \n",
       "49 Zo      2020-03-20 NA    NA          "
      ]
     },
     "metadata": {},
     "output_type": "display_data"
    }
   ],
   "source": [
    "#Chcke the null values for Margin status\n",
    "df[is.na(df$MarginStatus),]"
   ]
  },
  {
   "cell_type": "markdown",
   "metadata": {},
   "source": [
    "#### Comments for Stage and Margin Status missing values:\n",
    "\n",
    "In terms of the missing Margin Status values,  I decide to delete all the rows with missing Margin Status, because the actual Margin Statuses for these records are unknown and when we calculate the percentage positive margin, we should not make any assumption on these values. In addition, theres only a small number of records as null, so it would not affect the final result significantly. \n",
    "\n",
    "In terms of the missing Stage values, I also decide to delete all the rows with missing Stage status. As most rows with missing Stage status also have the Margin Status as missing(29 out of 33 rows). After deleting all the null Margin Status values, there are only 4 rows left with missing Stage values,even if I had three categories for the Stage status: `T2`,`T3`,`NA`, the data would not be big enough to produce any representative result. Therefore, I decide to delete all the null values from Stage column."
   ]
  },
  {
   "cell_type": "markdown",
   "metadata": {},
   "source": [
    "### Standardising the Stage column and removing null values.\n"
   ]
  },
  {
   "cell_type": "markdown",
   "metadata": {},
   "source": [
    "From the discussions above, I should:\n",
    "1. Standardising the Stage values to `T2`,`T3`.\n",
    "2. Removing missing values from the Stage and Margin Status Columns."
   ]
  },
  {
   "cell_type": "code",
   "execution_count": 15,
   "metadata": {},
   "outputs": [],
   "source": [
    "#Remove the null values\n",
    "df_complete <- df[is.na(df$MarginStatus)==FALSE&is.na(df$Stage)==FALSE,]\n",
    "#Create a new column to store the correct stage data\n",
    "df_complete$correct_stage=substr(df_complete$Stage, 1, 2)\n"
   ]
  },
  {
   "cell_type": "markdown",
   "metadata": {},
   "source": [
    "### 3. Investigating the best time intervel for percentage margin status.\n",
    "\n",
    "Firstly, I looked at the number of surgeries a day by a histogram. The Histogram labels indicate the start of each week."
   ]
  },
  {
   "cell_type": "code",
   "execution_count": 16,
   "metadata": {},
   "outputs": [],
   "source": [
    "#calculate the counts of the surgery every day\n",
    "df_complete$SurgeryDt=format(as.Date(df_complete$SurgeryDt), \"%Y-%m-%d\")\n",
    "dayfreqs <- aggregate(df_complete$SurgeryDt, by=list(df_complete$SurgeryDt), FUN=length)\n",
    "dayfreqs$Group.1 <- as.Date(dayfreqs$Group.1, format=\"%Y-%m-%d\")"
   ]
  },
  {
   "cell_type": "markdown",
   "metadata": {},
   "source": [
    "**For a better visual presentation of my results, I only showed the data from the first half of the 2018.**"
   ]
  },
  {
   "cell_type": "code",
   "execution_count": 17,
   "metadata": {
    "scrolled": false
   },
   "outputs": [
    {
     "data": {
      "image/png": "[encoded data removed]",
      "text/plain": [
       "plot without title"
      ]
     },
     "metadata": {
      "image/png": {
       "height": 600,
       "width": 1080
      }
     },
     "output_type": "display_data"
    }
   ],
   "source": [
    "#Plotting the histogram\n",
    "options(repr.plot.width=18, repr.plot.height=10)\n",
    "\n",
    "ggplot(dayfreqs[(format(dayfreqs$Group.1,'%Y')=='2018')&(format(dayfreqs$Group.1,'%m')<'07'),], aes(x=Group.1, y=x)) + geom_bar(position=\"dodge\",stat=\"identity\") +\n",
    "       scale_x_date(breaks=\"1 week\", labels=date_format(\"%Y-%b-%d\")) +\n",
    "       ylab(\"Frequency\") + xlab(\"Year and Month\") +\n",
    "       theme_bw()+theme(\n",
    "  plot.title = element_text(hjust = 0.5,size=30),\n",
    "  axis.title.x = element_text(size = 16),\n",
    "  axis.text.x = element_text(size = 14,angle = 90),\n",
    "  axis.title.y = element_text(size = 16))+ggtitle('The distribution of surgeries across time in the first half of 2018.')"
   ]
  },
  {
   "cell_type": "markdown",
   "metadata": {},
   "source": [
    "#### Comments: \n",
    "\n",
    "From the daily results we can see there are days that doesnt have any surgeries(gaps). In addition, there are 10 doctors in total, many days only have one surgery record, which means daily data don't involve all doctors and won't be a good relection of the overall performance of doctors. **Therefore, we should not analyse doctors performance based on daily data, a bigger time interval is required.**"
   ]
  },
  {
   "cell_type": "markdown",
   "metadata": {},
   "source": [
    "Secondly, I decided to group the surgery counts by week."
   ]
  },
  {
   "cell_type": "code",
   "execution_count": 18,
   "metadata": {},
   "outputs": [
    {
     "data": {
      "text/plain": [
       "   Group.1                x        \n",
       " Length:157         Min.   : 5.00  \n",
       " Class :character   1st Qu.:11.00  \n",
       " Mode  :character   Median :13.00  \n",
       "                    Mean   :12.96  \n",
       "                    3rd Qu.:15.00  \n",
       "                    Max.   :21.00  "
      ]
     },
     "metadata": {},
     "output_type": "display_data"
    }
   ],
   "source": [
    "#grouping data by week\n",
    "weekfreqs <- aggregate(df_complete$SurgeryDt, list(format(as.Date(df_complete$SurgeryDt),'%Y-%V')), FUN=length)\n",
    "summary(weekfreqs)\n",
    "\n"
   ]
  },
  {
   "cell_type": "markdown",
   "metadata": {},
   "source": [
    "#### Comments: \n",
    "\n",
    "The descriptive statistics for the weekly data shows that the minimum weekly surgery is 5, with the median value of 13. which means there are weeks where most doctors didn't have any surgery records. And 50% of the weekly data have an average of 1.3 surgery per doctor. **The weekly data sill not big enough to give a good indication of the doctor performance, a bigger time interval is required.**"
   ]
  },
  {
   "cell_type": "markdown",
   "metadata": {},
   "source": [
    "In the following section, I will look at the descriptive statistics for the monthly, quarterly and yearly data.  "
   ]
  },
  {
   "cell_type": "code",
   "execution_count": 19,
   "metadata": {},
   "outputs": [],
   "source": [
    "#create a new column to store the month\n",
    "df_complete$month<-format(as.Date(df_complete$SurgeryDt),'%m')\n",
    "#create a new column to store the quarter\n",
    "df_complete<-df_complete %>%\n",
    "  mutate(quarter = paste0(\"Q\",quarter(SurgeryDt))) \n",
    "#create a new column to store the year\n",
    "df_complete$year<-format(as.Date(df_complete$SurgeryDt),'%Y')\n"
   ]
  },
  {
   "cell_type": "code",
   "execution_count": 20,
   "metadata": {},
   "outputs": [
    {
     "data": {
      "text/plain": [
       "   Group.1            Group.2                x       \n",
       " Length:36          Length:36          Min.   :40.0  \n",
       " Class :character   Class :character   1st Qu.:52.0  \n",
       " Mode  :character   Mode  :character   Median :56.5  \n",
       "                                       Mean   :56.5  \n",
       "                                       3rd Qu.:61.0  \n",
       "                                       Max.   :71.0  "
      ]
     },
     "metadata": {},
     "output_type": "display_data"
    }
   ],
   "source": [
    "#grouping data by month\n",
    "monthfreqs <- aggregate(df_complete$SurgeryDt, list(df_complete$year,df_complete$month), FUN=length)\n",
    "summary(monthfreqs)\n"
   ]
  },
  {
   "cell_type": "code",
   "execution_count": 21,
   "metadata": {},
   "outputs": [
    {
     "data": {
      "text/plain": [
       "   Group.1            Group.2                x        \n",
       " Length:12          Length:12          Min.   :158.0  \n",
       " Class :character   Class :character   1st Qu.:163.5  \n",
       " Mode  :character   Mode  :character   Median :166.5  \n",
       "                                       Mean   :169.5  \n",
       "                                       3rd Qu.:173.2  \n",
       "                                       Max.   :191.0  "
      ]
     },
     "metadata": {},
     "output_type": "display_data"
    }
   ],
   "source": [
    "#grouping data by Quarter\n",
    "quarterfreqs <- aggregate(df_complete$SurgeryDt, list(df_complete$year,df_complete$quarter), FUN=length)\n",
    "summary(quarterfreqs)"
   ]
  },
  {
   "cell_type": "code",
   "execution_count": 22,
   "metadata": {},
   "outputs": [
    {
     "data": {
      "text/plain": [
       "   Group.1                x        \n",
       " Length:3           Min.   :663.0  \n",
       " Class :character   1st Qu.:669.0  \n",
       " Mode  :character   Median :675.0  \n",
       "                    Mean   :678.0  \n",
       "                    3rd Qu.:685.5  \n",
       "                    Max.   :696.0  "
      ]
     },
     "metadata": {},
     "output_type": "display_data"
    }
   ],
   "source": [
    "#grouping data by Year\n",
    "yearfreqs <- aggregate(df_complete$SurgeryDt, list(df_complete$year), FUN=length)\n",
    "summary(yearfreqs)\n",
    "\n",
    "## Now load or install&load all\n",
    "package.check <- lapply(\n",
    "  packages,\n",
    "  FUN = function(x) {\n",
    "    if (!require(x, character.only = TRUE)) {\n",
    "      install.packages(x, dependencies = TRUE)\n",
    "      library(x, character.only = TRUE)\n",
    "    }\n",
    "  }\n",
    ")"
   ]
  },
  {
   "cell_type": "markdown",
   "metadata": {},
   "source": [
    "#### Comments:\n",
    "\n",
    "The monthly surgery counts have a minimum of 40 surgeries and a maximum of 71 surgeries. This is much more than the weekly data. However as we calculate the performances for two stages seperately for 10 doctors. This means each doctor approximately has 2-4 surgeries a week for each stage on average, this might still be not enough for evaluating the true performance of doctors. \n",
    "\n",
    "The quarterly counts have a minimum of 158 surgeries and a maximum of 191 surgeries. This means each doctor have around 8-10 surgeries on average for stage. **This should be a better time interval than the monthly data, because we need doctors to complete enough surgeries to be able to give a good indication of their performances.**\n",
    "\n",
    "The yearly counts involve a lot more surgeries, but the yearly data are less capable of demonstrating doctors time-to-time performances throughout the year. In addition, our data only spans for three years, it is hard to pick up any traind by using yearly data. \n",
    "\n",
    "\n",
    "**Therefore in my final presentation of the performance findings, I decide to use quarterly performance as the default setting, but I still allow my users to have a look at the yearly and monthly performance if necessary.**\n"
   ]
  },
  {
   "cell_type": "code",
   "execution_count": null,
   "metadata": {},
   "outputs": [],
   "source": []
  }
 ],
 "metadata": {
  "kernelspec": {
   "display_name": "R",
   "language": "R",
   "name": "ir"
  },
  "language_info": {
   "codemirror_mode": "r",
   "file_extension": ".r",
   "mimetype": "text/x-r-source",
   "name": "R",
   "pygments_lexer": "r",
   "version": "4.0.3"
  }
 },
 "nbformat": 4,
 "nbformat_minor": 5
}
